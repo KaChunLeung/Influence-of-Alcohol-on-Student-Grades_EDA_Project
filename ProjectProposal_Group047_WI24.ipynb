{
 "cells": [
  {
   "cell_type": "markdown",
   "metadata": {},
   "source": [
    "# COGS 108 - Project Proposal"
   ]
  },
  {
   "cell_type": "markdown",
   "metadata": {},
   "source": [
    "# Names\n",
    "\n",
    "- Sheily Lim\n",
    "- Annie Tang\n",
    "- Ka Chun Leung\n",
    "- Ji Hong Cha\n",
    "- Victor Hsiao\n"
   ]
  },
  {
   "cell_type": "markdown",
   "metadata": {},
   "source": [
    "# Research Question"
   ]
  },
  {
   "cell_type": "markdown",
   "metadata": {},
   "source": [
    "Main Question: \n",
    "- How does alcohol consumption affect the academic performance of students?\n",
    "\n",
    "This question aims to explore the relationship between students' alcohol consumption levels and their academic success, specifically measuring the impact of weekly alcohol intake (both weekday and weekend consumption) on their final grades.\n",
    "\n",
    "Subquestions:\n",
    "1. Is there a significant difference in the final grades of students who consume alcohol at high levels versus those who consume at low levels during weekdays?\n",
    "2. Does weekend alcohol consumption have a more pronounced effect on academic performance compared to weekday consumption?\n",
    "3. Are there any observable patterns in alcohol consumption among students with varying levels of academic achievement (e.g., high achievers vs. low achievers)?\n",
    "\n"
   ]
  },
  {
   "cell_type": "markdown",
   "metadata": {},
   "source": [
    "## Background and Prior Work"
   ]
  },
  {
   "cell_type": "markdown",
   "metadata": {},
   "source": [
    "\n",
    "Alcohol consumption is regarded as integral for a university's social culture and one's college experience. According to the National Institute of Alcohol Abuse and Alcoholism, it has been reported that there are multiple factors that influence student drinking. Schools with strong Greek systems or prominent athletic programs tend to have students drink more than students at other schools, where alcohol consumption is highest among students living in fraternities or sororities.<a name=\"cite_ref-5\"></a>[<sup>5</sup>](#cite_note-5) College drinking can be harmful and impact multiple areas of a student's life. In our project, we study the effects of college drinking and alcohol consumption on one's academic performance.\n",
    "\n",
    "There have already been some studies done to analyze the impact of alcohol consumption on academic performance. The process of these studies have been to survey students on their alcoholic consumption and academic results, and then using different statistical methods to find an association between the two variables. However, when comparing the research with one another there have been mixed results, with the most common conclusions either being that there is a negative association between alcohol consumption and student academic performance or there not being a correlation between the two variables at all.\n",
    "\n",
    "One common conclusion is that alcohol consumption negatively affects academic performance. In a survey done by the CDC, the consensus is that students with higher grades are less likely to drink or engage in alcohol related behaviors than students with lower grades. It was reported that 12% of high school students with mostly A's had their first drink before the age of 13 (compared to 26% with mostly D's and F's), 27% reported current alcohol use (compared to 40%), and 13% reported current binge drinking (compared to 26%).<a name=\"cite_ref-4\"></a>[<sup>4</sup>](#cite_note-4) The survey proves association between alcohol consumption and academic performance, but not causation, which means that lower academic performance does not cause an increase in the likelihood that one engages in alcohol related behaviors, nor does alcohol consumption cause lower academic performance. This is valid because there can be other confounding variables that influence alcohol consumption and academic performance, such as family environment, household income, etc. Another study done by the University of Gloucester in the United Kingdom came to a similar conclusion as well. This study was measured based on multiple alcohol consumption indicators (length of time of and amount consumed during most recent drinking occasion, frequency of alcohol consumption, heavy episodic drinking, problem drinking) and multiple academic achievement indicators (importance of achieving good grades, actual academic performance, comparison of academic performance compared to peers).<a name=\"cite_ref-1\"></a>[<sup>1</sup>](#cite_note-1) They came to the conclusion that there are negative associations between alcohol consumption at any level and motivation for good grades and academic performance.<a name=\"cite_ref-1\"></a>[<sup>1</sup>](#cite_note-1) \n",
    "\n",
    "However, there are other studies that found that there is no link between alcohol consumption and academic performance. One study done at the University of Hampshire measured the effect on college students' alcohol use on their GPA, in which a survey was done asking students about their average alcohol consumption per week and cumulative GPA. <a name=\"cite_ref-3\"></a>[<sup>3</sup>](#cite_note-3) It was found that most students who took the survey reported that they drank an average of 2-3 days a week, and had an average cumulative GPA of 3.0 - 3.5.<a name=\"cite_ref-3\"></a>[<sup>3</sup>](#cite_note-3) The researchers came to the conclusion that there was no significant relationship between GPA and alcohol consumption. Another study done by researchers at Queen's University came to a similar conclusion, in which they measured based on the number of alcoholic drinks a student consumed each day per week, class absence, and academic performance. This study also included a confounding variable of house environment, in which they measure whether or not house environment affects alcoholic consumption. The results of the study were that there is not really a relationship between alcohol consumption and academic performance, but there was a correlation between house environment and alcohol consumption and absence rates.<a name=\"cite_ref-2\"></a>[<sup>2</sup>](#cite_note-2) This means that students who lived in an environment where their roommates drank more often were more likely to drink and miss class regularly.<a name=\"cite_ref-2\"></a>[<sup>2</sup>](#cite_note-2) The main limitations with each of these studies were the small sample size and a lack of understanding of students' drinking patterns. Further research, including a larger and more representative sample where research is done across multiple college campuses, will lead to a stronger conclusion. \n",
    "\n",
    "1. <a name=\"cite_note-1\"></a> [^](#cite_ref-1) El Ansari, W. (4 Oct 2013) Is Alcohol Consumption Associated with Poor Academic Achievement in University Students? *International Journal of Preventive Medicine*. https://www.ncbi.nlm.nih.gov/pmc/articles/PMC3843305/ \n",
    "2. <a name=\"cite_note-2\"></a> [^](#cite_ref-2) Carson, J. (Mar 2007) Group Alcohol Climate, Alcohol Consumption, and Student Performance *Queen's University*. https://www.researchgate.net/publication/232507482_Group_alcohol_climate_alcohol_consumption_and_student_performance#:~:text=No%20link%20between%20student%20alcohol%20consumption%20and%20student,between%20house%20alcohol%20climate%20and%20student%20alcohol%20consumption. \n",
    "3. <a name=\"cite_note-3\"></a> [^](#cite_ref-3) Coyman, J. (1 Sep 2015) The Effects of Alcohol Use on Academic Performance Among College Students  *University of New Hampshire*. https://scholars.unh.edu/cgi/viewcontent.cgi?article=1087&context=perspectives \n",
    "4. <a name=\"cite_note-4\"></a> [^](#cite_ref-4) (26 Jan 2021) Alcohol Behaviors and Academic Grades  *Centers for Disease Control and Prevention*. https://www.cdc.gov/healthyschools/health_and_academics/alcohol_use.htm \n",
    "4. <a name=\"cite_note-5\"></a> [^](#cite_ref-5) (Jan 2024) College Drinking  *National Institute on Alcohol Abuse and Alcoholism*. https://www.niaaa.nih.gov/publications/brochures-and-fact-sheets/college-drinking \n"
   ]
  },
  {
   "cell_type": "markdown",
   "metadata": {},
   "source": [
    "# Hypothesis\n"
   ]
  },
  {
   "cell_type": "markdown",
   "metadata": {},
   "source": [
    "\n",
    "Main Hypothesis: \n",
    "- Higher levels of alcohol consumption are negatively correlated with students' academic performance, leading to lower final grades.\n",
    "\n",
    "This hypothesis is grounded in the assumption that alcohol consumption, especially at higher levels, can impair cognitive functions, reduce study time, and increase absenteeism, which in turn could negatively affect academic performance. The distinction between weekday and weekend consumption allows for a nuanced analysis, hypothesizing that weekday consumption, closer to academic obligations, might have a more immediate and detrimental effect on students' ability to perform academically than weekend consumption. This expectation is based on existing research that links substance use with academic difficulties, suggesting that the disruptive effects of alcohol on sleep patterns, attention, and memory processes could directly impact students' learning and assessment performances."
   ]
  },
  {
   "cell_type": "markdown",
   "metadata": {},
   "source": [
    "# Data"
   ]
  },
  {
   "cell_type": "markdown",
   "metadata": {},
   "source": [
    "The ideal dataset to answer this question would include multiple measures of student success, both in and out of their control. This could potentially mean demographic information, information about their parents education/job, and their past academic performance. It would also include data about their alcohol consumption.\n",
    "\n",
    "Since we are trying to answer a predictive question, we would ideally like a larger dataset of 300+ observations so we can effectively split our data into testing and training data, and still have a big enough sample size in order to train a model. \n",
    "\n",
    "Ideally, the variables would be collected and arranged in a tidy way, with each observation representing a student and each column representing an attribute of the student. Additionally, it would be nice if each column had the correct type, and not, for example, having numeric variables stored as strings. Having typo free data and missing data all encoded the same way would be very helpful as well.\n",
    "\n",
    "After searching online for potential datasets, there do seem to be a few options that fit the majority of our criteria. This data is publically accessible as well, so we can use it for our analysis. Some of the available variables seem to be slightly different than what we originally envisioned, but they still seem to be workable."
   ]
  },
  {
   "cell_type": "markdown",
   "metadata": {},
   "source": [
    "# Ethics & Privacy"
   ]
  },
  {
   "cell_type": "markdown",
   "metadata": {},
   "source": [
    "- Thoughtful discussion of ethical concerns included\n",
    "- Ethical concerns consider the whole data science process (question asked, data collected, data being used, the bias in data, analysis, post-analysis, etc.)\n",
    "- How your group handled bias/ethical concerns clearly described\n",
    "\n",
    "Acknowledge and address any ethics & privacy related issues of your question(s), proposed dataset(s), and/or analyses. Use the information provided in lecture to guide your group discussion and thinking. If you need further guidance, check out [Deon's Ethics Checklist](http://deon.drivendata.org/#data-science-ethics-checklist). In particular:\n",
    "\n",
    "- Are there any biases/privacy/terms of use issues with the data you propsed?\n",
    "- Are there potential biases in your dataset(s), in terms of who it composes, and how it was collected, that may be problematic in terms of it allowing for equitable analysis? (For example, does your data exclude particular populations, or is it likely to reflect particular human biases in a way that could be a problem?)\n",
    "- How will you set out to detect these specific biases before, during, and after/when communicating your analysis?\n",
    "- Are there any other issues related to your topic area, data, and/or analyses that are potentially problematic in terms of data privacy and equitable impact?\n",
    "- How will you handle issues you identified?\n",
    "The data that we will be using for this project is allowed for public access and use, meaning no direct permission is needed.  The dataset is from https://www.kaggle.com/datasets/uciml/student-alcohol-consumption, which is an open-sourced dataset website.  As an accumulation of data regarding student and parent information, we are confident that the data we used hold no risk to the students and parents themselves because no names are included in the dataset.  Although more of one school is represented in the dataset than the other, we believe that this difference should not make the dataset more biased towards one school than the other, nor should there be any issues with bias in the dataset used in this project. "
   ]
  },
  {
   "cell_type": "markdown",
   "metadata": {},
   "source": [
    "# Team Expectations "
   ]
  },
  {
   "cell_type": "markdown",
   "metadata": {},
   "source": [
    "\n",
    "* Be accountable for your assigned part before the meeting\n",
    "* Have open communication, keep up with the chat\n",
    "* Help each other out when asked to optimize efficiancy\n",
    "* Be considrate of everyone's time and stay on topic\n",
    "* Try not to cancel last minute (unless emergencies)"
   ]
  },
  {
   "cell_type": "markdown",
   "metadata": {},
   "source": [
    "# Project Timeline Proposal"
   ]
  },
  {
   "cell_type": "markdown",
   "metadata": {},
   "source": [
    "\n",
    "| Meeting Date  | Meeting Time| Completed Before Meeting  | Discuss at Meeting |\n",
    "|---|---|---|---|\n",
    "| 2/7  |  4 PM | Do research on topics of interests; find websites that backs up our data  | Propose ideas, decide on the topic of choice; break up on what to focus on, background research | \n",
    "| 2/11  |  3 PM |  Find sources that backs up our proposal, finish the parts assigned to us | Discuss our findings; draft project proposal, edit and submit proposal | \n",
    "| 2/15  | 6 PM  | Download data, experiment with the data  | Discuss Wrangling and possible analytical approaches; Assign group members to lead each specific part   |\n",
    "| 2/19  | 3 PM  | Import & Wrangle Data; start on EDA | Review/Edit wrangling/EDA; Discuss Analysis Plan   |\n",
    "| 2/26  | 3 PM  | Finalize wrangling/EDA; Begin Analysis | Discuss/edit Analysis; Complete project check-in |\n",
    "| 3/4  | 3 PM  | Complete analysis; Draft results/conclusion/discussion | Discuss/edit full project |\n",
    "| 3/11  | 3 PM  | Review what we have | Update and tidy the Final Project |\n",
    "| 3/20  | Before 11:59 PM  | NA | Turn in Final Project & Group Project Surveys |"
   ]
  }
 ],
 "metadata": {
  "kernelspec": {
   "display_name": "Python 3 (ipykernel)",
   "language": "python",
   "name": "python3"
  },
  "language_info": {
   "codemirror_mode": {
    "name": "ipython",
    "version": 3
   },
   "file_extension": ".py",
   "mimetype": "text/x-python",
   "name": "python",
   "nbconvert_exporter": "python",
   "pygments_lexer": "ipython3",
   "version": "3.9.7"
  }
 },
 "nbformat": 4,
 "nbformat_minor": 2
}
